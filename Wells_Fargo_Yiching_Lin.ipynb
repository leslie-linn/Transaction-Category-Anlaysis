{
 "cells": [
  {
   "cell_type": "markdown",
   "metadata": {},
   "source": [
    "### Wells Fargo NLP and Machine Learning Project\n",
    "\n",
    "Created by Yi-Ching (Leslie) Lin <br>\n",
    "\n",
    "03 July 2022"
   ]
  },
  {
   "cell_type": "code",
   "execution_count": 1,
   "metadata": {},
   "outputs": [],
   "source": [
    "# for data manipulation\n",
    "import pandas as pd\n",
    "import numpy as np\n",
    "# for plotting\n",
    "import matplotlib.pyplot as plt\n",
    "import seaborn as sns\n",
    "from wordcloud import WordCloud\n",
    "from PIL import Image\n",
    "# for processing\n",
    "import re\n",
    "import nltk\n",
    "# for resampling\n",
    "from imblearn.over_sampling import RandomOverSampler\n",
    "from imblearn.over_sampling import SMOTE\n",
    "from imblearn.pipeline import Pipeline as imbpipeline\n",
    "# Import modules for feature engineering and modelling\n",
    "from sklearn.pipeline import Pipeline, FeatureUnion\n",
    "from sklearn.preprocessing import FunctionTransformer\n",
    "from sklearn.preprocessing import StandardScaler \n",
    "# for bag-of-words\n",
    "from sklearn import feature_extraction\n",
    "from sklearn import pipeline\n",
    "from sklearn import preprocessing \n",
    "from sklearn.feature_extraction.text import TfidfVectorizer\n",
    "# for evaluation\n",
    "from sklearn.feature_selection import chi2\n",
    "from sklearn.metrics import classification_report\n",
    "from sklearn.metrics import confusion_matrix\n",
    "from sklearn.metrics import accuracy_score\n",
    "# for building model\n",
    "from sklearn.model_selection import train_test_split\n",
    "from sklearn.pipeline import Pipeline\n",
    "from sklearn.model_selection import GridSearchCV\n",
    "from sklearn.linear_model import SGDClassifier\n",
    "\n",
    "np.random.seed (708)"
   ]
  },
  {
   "cell_type": "markdown",
   "metadata": {},
   "source": [
    "### Exploratory Data Analysis (EDA) \n",
    "#### (Reference analytic process-flow diagram 1.)\n",
    "- Check for missing values.\n",
    "- Visualize the distribution of the category, getting an understanding on whether the dataset is imbalanced.\n"
   ]
  },
  {
   "cell_type": "code",
   "execution_count": 2,
   "metadata": {},
   "outputs": [],
   "source": [
    "# data file name\n",
    "train_data_file = 'dbb4c4ff1f31-CAC+2022_Training+Data+Set+New.xlsx'\n",
    "use_data_file = 'dbb4c4ff1f31-CAC+2022_Test+Data+Set+New.xlsx'\n",
    "# define useful features\n",
    "text_col = 'coalesced_brand'\n",
    "num_col = 'amt'\n",
    "target_col ='Category'\n",
    "def data_preparation(train_data_file, use_data_file):\n",
    "\t\"\"\"Function to load data sets and merge training set and test set to big full set for feature engineering and data cleaning\"\"\"\n",
    "\tglobal df, use_df, dtf\n",
    "\t# read training data as a pandas dataframe\n",
    "\tdf = pd.read_excel(train_data_file)\n",
    "\tuse_df = pd.read_excel(use_data_file)\n",
    "\t# merge two files for data manipulation\n",
    "\tdtf = pd.concat([df, use_df])\n",
    "\treturn dtf\n",
    "dtf = data_preparation(train_data_file, use_data_file)"
   ]
  },
  {
   "cell_type": "code",
   "execution_count": 3,
   "metadata": {},
   "outputs": [
    {
     "data": {
      "text/plain": [
       "sor                               0\n",
       "cdf_seq_no                        0\n",
       "trans_desc                        0\n",
       "merchant_cat_code             19022\n",
       "amt                               0\n",
       "db_cr_cd                        378\n",
       "payment_reporting_category        0\n",
       "payment_category                  0\n",
       "is_international                  0\n",
       "default_brand                     0\n",
       "default_location                  6\n",
       "qrated_brand                   4164\n",
       "coalesced_brand                   0\n",
       "Category                      10000\n",
       "dtype: int64"
      ]
     },
     "execution_count": 3,
     "metadata": {},
     "output_type": "execute_result"
    }
   ],
   "source": [
    "# check null values\n",
    "dtf.isnull().sum()"
   ]
  },
  {
   "cell_type": "code",
   "execution_count": 4,
   "metadata": {},
   "outputs": [
    {
     "data": {
      "text/plain": [
       "<AxesSubplot:xlabel='Category'>"
      ]
     },
     "execution_count": 4,
     "metadata": {},
     "output_type": "execute_result"
    },
    {
     "data": {
      "image/png": "[encoded data removed]",
      "text/plain": [
       "<Figure size 432x288 with 1 Axes>"
      ]
     },
     "metadata": {
      "needs_background": "light"
     },
     "output_type": "display_data"
    }
   ],
   "source": [
    "# visualize class distributions\n",
    "df.groupby(target_col).size().plot.bar()"
   ]
  },
  {
   "cell_type": "markdown",
   "metadata": {},
   "source": [
    "#### Visualization - Word Clound\n",
    "The following word clouds for each category can give us a view on the major words in each category. <br>\n",
    "<br>\n",
    "Reference:<br>\n",
    "https://towardsdatascience.com/simple-wordcloud-in-python-2ae54a9f58e5 <br>"
   ]
  },
  {
   "cell_type": "code",
   "execution_count": 5,
   "metadata": {},
   "outputs": [],
   "source": [
    "# build customized stopwords list\n",
    "lst_stopwords = ['and','the','of','com','www','company','co','by','to','at', 'by','for']\n",
    "stopwords = set(lst_stopwords)\n",
    "# get list of categories\n",
    "classes = np.unique(df[target_col])\n",
    "path = '/Users/linyijing/Downloads/'\n",
    "image = 'dollar_image.jpeg'\n",
    "mask = np.array(Image.open(path+image))\n",
    "# dollar sign image from https://stock.adobe.com/uk/\n",
    "def Compare_WordCloud(text, target, classes, mask):\n",
    "\t\"\"\"Function to generate word cloud for each category\"\"\"\n",
    "\twc =  WordCloud(width=400,height=300, stopwords=lst_stopwords, colormap='hsv', max_words=400,\n",
    "\t\t\t\t   mode='RGBA', mask=mask, max_font_size= 40, min_font_size=5, random_state=73)\n",
    "\tfor category in classes:\n",
    "\t\twc.generate(text[target == category].to_string())\n",
    "\t\t# color of Wells Fargo reference from https://www.schemecolor.com/wells-fargo-logo-colors.php\t\n",
    "\t\tfont = {'family':'Latin Modern Roman','color':'#FFFF00','size':25, 'weight':'bold'}\n",
    "\t\tplt.figure(figsize=(16, 13), dpi=300, facecolor='#CD1409')\n",
    "\t\tplt.imshow(wc, interpolation='bilinear', alpha=0.98)\n",
    "\t\tplt.title(category, fontdict = font)\n",
    "\t\tplt.axis('off')\n",
    "\t\tplt.tight_layout(pad=0)\n",
    "\t\tplt.show()\n",
    "Compare_WordCloud(df[text_col], df[target_col], classes, mask)"
   ]
  },
  {
   "cell_type": "markdown",
   "metadata": {},
   "source": [
    "As we can see from the ablove class distribution, the dataset is extremely imbalanced. Thus, it is necessary to apply over-sampling process on the data before training the machine learning model.\n",
    "\n",
    "### Data preparation/ Feature engineering\n",
    "#### (Reference analytic process-flow diagram 2.)\n",
    "\n",
    "- Clean merchant_cat_code column, replacing missing values with 0.\n",
    "- Combine cleaned merchant_cat_code to coalesced_brand to get a more precise description on transaction."
   ]
  },
  {
   "cell_type": "code",
   "execution_count": 6,
   "metadata": {},
   "outputs": [],
   "source": [
    "def standardize(df,col):\n",
    "    \"\"\"Function to standardize numeric column\"\"\"\n",
    "    mm_scaler = preprocessing.StandardScaler()\n",
    "    amt_minmax = mm_scaler.fit_transform(df[col].to_frame())\n",
    "    df[col] = amt_minmax\n",
    "    return df[col]\n",
    "dtf[num_col] = standardize(dtf,num_col)"
   ]
  },
  {
   "cell_type": "markdown",
   "metadata": {},
   "source": [
    "### Text Preprocessing\n",
    "#### (Reference analytic process-flow diagram 3.)\n",
    "\n",
    "- Remove punctuation, stop words and tranfer nessasary word into its root word.\n",
    "- Combine category code to coalesced_brand column.\n"
   ]
  },
  {
   "cell_type": "code",
   "execution_count": 7,
   "metadata": {},
   "outputs": [],
   "source": [
    "def utils_preprocess_text(text, flg_stemm=False, flg_lemm=True, lst_stopwords=None):\n",
    "    \"\"\"Function to remove puncturations, numbers and optional stemming, lemmatization and stopwords removal\"\"\"\n",
    "    # clean data: convert to lowercase,remove punctuations and characters and strip\n",
    "    text = re.sub('&', 'and', str(text).lower().strip())\n",
    "    text = re.sub(r'[^\\w\\s]+', ' ', str(text).lower().strip())\n",
    "    text = re.sub(r'[0-9]+', '', str(text).lower().strip())\n",
    "    # tokenize (convert from string to list)\n",
    "    lst_text =text.split()\n",
    "    # remove Stopwords\n",
    "    if lst_stopwords is not None:\n",
    "        lst_text = [word for word in lst_text if word not in lst_stopwords]\n",
    "    # stemming \n",
    "    if flg_stemm == True:\n",
    "        ps = nltk.stem.porter.PorterStemmer()\n",
    "        lst_text = [ps.stem(word) for word in lst_text]\n",
    "    # lemmatisation\n",
    "    if flg_lemm == True:\n",
    "        lem = nltk.stem.wordnet.WordNetLemmatizer()\n",
    "        lst_text = [lem.lemmatize(word) for word in lst_text]\n",
    "    # convert list of words back to its original form\n",
    "    text = \" \".join(lst_text)\n",
    "    return text\n",
    "# try different combinations of cleaning options and find out included just stopwords has the best performance\n",
    "dtf.loc[:,text_col] = dtf.loc[:,text_col].apply(\n",
    "    lambda x: utils_preprocess_text(x, \n",
    "                                    flg_stemm=False, \n",
    "                                    flg_lemm=False,\n",
    "                                    lst_stopwords=None\n",
    " )\n",
    ")"
   ]
  },
  {
   "cell_type": "code",
   "execution_count": 8,
   "metadata": {},
   "outputs": [],
   "source": [
    "# inspect the patterns to fine tune misclassified transactions\n",
    "dtf[text_col] = dtf[text_col].str.replace(r'^(\\b[a-z]{1})\\sand\\s([a-z]{1}$)',r'\\1\\2', regex=True)\n",
    "dtf[text_col] = dtf[text_col].str.replace(r'([a-z]{1})\\s([a-z]{1}\\smart)',r'\\1\\2', regex=True)\n",
    "dtf[text_col] = dtf[text_col].str.replace(r'([a-z]{1})\\s([a-z]{1}\\smarket)',r'\\1\\2', regex=True)\n",
    "dtf[text_col] = dtf[text_col].str.replace(r'([a-z]{1})\\s([a-z]{1}\\sperformance)',r'\\1\\2', regex=True)\n",
    "dtf[text_col] = dtf[text_col].str.replace(r'(?<=\\b[a-z]) (?=[a-z]\\b)', '', regex=True)"
   ]
  },
  {
   "cell_type": "code",
   "execution_count": 9,
   "metadata": {},
   "outputs": [
    {
     "name": "stderr",
     "output_type": "stream",
     "text": [
      "/var/folders/z1/r593y20957vb8wky88kwc2tr0000gn/T/ipykernel_51766/2460656816.py:5: FutureWarning: The default value of regex will change from True to False in a future version.\n",
      "  df.loc[:,text_col] = df.loc[:,text_col].str.replace(r'^(0+)', '')\n",
      "/var/folders/z1/r593y20957vb8wky88kwc2tr0000gn/T/ipykernel_51766/2460656816.py:6: FutureWarning: The default value of regex will change from True to False in a future version.\n",
      "  df.loc[:,text_col] = df.loc[:,text_col].str.replace(r'^\\s(1+)\\s', '')\n"
     ]
    }
   ],
   "source": [
    "def combine_code_brand(df, code, text_col):\n",
    "    \"\"\"Function to combine category code column to coalesced_brand column\"\"\"\n",
    "    df.loc[:,code] = df[code].fillna(0).astype(int)\n",
    "    df.loc[:,text_col] = df[code].astype(str)+' '+df[text_col].astype(str)\n",
    "    df.loc[:,text_col] = df.loc[:,text_col].str.replace(r'^(0+)', '')\n",
    "    df.loc[:,text_col] = df.loc[:,text_col].str.replace(r'^\\s(1+)\\s', '')\n",
    "    return df[text_col]\n",
    "dtf[text_col] = combine_code_brand(dtf, 'merchant_cat_code',text_col)"
   ]
  },
  {
   "cell_type": "markdown",
   "metadata": {},
   "source": [
    "### Split the big full data back into original training set and test set\n",
    "#### (Reference analytic process-flow diagram 4.)\n"
   ]
  },
  {
   "cell_type": "code",
   "execution_count": 10,
   "metadata": {},
   "outputs": [],
   "source": [
    "# split the data back into training data and test data after feature cleaning and engineering\n",
    "df = dtf.iloc[:40000,:]\n",
    "use_df = dtf.iloc[40000:,:]\n",
    "\n",
    "# split the labeled dataset into features and target variable\n",
    "label_features = df[[text_col, num_col]]\n",
    "label_target = df[target_col]"
   ]
  },
  {
   "cell_type": "markdown",
   "metadata": {},
   "source": [
    "### Random oversampling\n",
    "#### (Reference analytic process-flow diagram 5.)\n",
    "\n",
    "Since our data is imbalanced, it required over-oversampling to balance the class distribution before feeding the training set into the machine learning model to address imbalanced dataset. Random oversampling involves randomly duplicating examples from the minority class and adding them to the training dataset.\n",
    "######\n",
    "Reference:<br>\n",
    "https://medium.com/@satishkorapati/dealing-with-imbalanced-dataset-for-multi-class-text-classification-having-multiple-categorical-2a43fc8de009"
   ]
  },
  {
   "cell_type": "code",
   "execution_count": 11,
   "metadata": {},
   "outputs": [],
   "source": [
    "test_size = 0.2\n",
    "def ros(df, independent_set, target_variable, test_size):\n",
    "    \"\"\"Achieve a balanced training and validation after over-sampling original data set\"\"\"\n",
    "    global X_ROS, y_ROS, X_train_ros, X_test_ros, y_train_ros, y_test_ros\n",
    "    ros = RandomOverSampler(random_state=777)\n",
    "    X_ROS, y_ROS = ros.fit_sample(df[independent_set], df[target_variable].to_frame())\n",
    "    X_train_ros, X_test_ros, y_train_ros, y_test_ros = train_test_split(X_ROS, y_ROS, test_size = test_size)\n",
    "ros(df,[text_col, num_col], target_col, test_size)"
   ]
  },
  {
   "cell_type": "code",
   "execution_count": 12,
   "metadata": {},
   "outputs": [],
   "source": [
    "def frac(dataframe, fraction):\n",
    "    \"\"\"Return fraction of data to evaluate model performance\"\"\"\n",
    "    return dataframe.sample(frac=fraction)\n",
    "## try different proportion of training set and test set to evaluate model performance\n",
    "#train_10 = frac(df, 0.5)\n",
    "#X_train_10, X_test_10, y_train_10, y_test_10 = train_test_split(train_10[['coalesced_brand','amt']], train_10['Category'], test_size = 0.2)"
   ]
  },
  {
   "cell_type": "code",
   "execution_count": 13,
   "metadata": {},
   "outputs": [
    {
     "data": {
      "text/plain": [
       "<AxesSubplot:xlabel='Category'>"
      ]
     },
     "execution_count": 13,
     "metadata": {},
     "output_type": "execute_result"
    },
    {
     "data": {
      "image/png": "[encoded data removed]",
      "text/plain": [
       "<Figure size 432x288 with 1 Axes>"
      ]
     },
     "metadata": {
      "needs_background": "light"
     },
     "output_type": "display_data"
    }
   ],
   "source": [
    "# visualize categories distribution after over-sampling\n",
    "y_ROS.groupby(target_col).size().plot.bar()"
   ]
  },
  {
   "cell_type": "markdown",
   "metadata": {},
   "source": [
    "Perfect! As we can see from the above bar plot, after over resampling the dataset, now we have the dataset that is well balanced!<br>\n",
    "We will then start building bag of words (BOW) with optimal vectorizer."
   ]
  },
  {
   "cell_type": "markdown",
   "metadata": {},
   "source": [
    "### Pipeline\n",
    "#### (Reference analytic process-flow diagram 6.)\n",
    "\n",
    "- Select numeric and text column\n",
    "- build corpus and vectorizer\n",
    "- Synthetic minority oversampling on ROS dataset to create more data for training model\n",
    "- Grid search on vectorizer and SVM model\n",
    "- Train the linear SVM model and evaluate its performance on test data\n",
    "####\n",
    "Reference:<br>\n",
    "https://www.kaggle.com/code/selener/multi-class-text-classification-tfidf/notebook <br>\n",
    "https://towardsdatascience.com/multi-class-text-classification-with-doc2vec-logistic-regression-9da9947b43f"
   ]
  },
  {
   "cell_type": "code",
   "execution_count": 14,
   "metadata": {},
   "outputs": [
    {
     "name": "stdout",
     "output_type": "stream",
     "text": [
      "Fitting 5 folds for each of 1 candidates, totalling 5 fits\n"
     ]
    },
    {
     "name": "stderr",
     "output_type": "stream",
     "text": [
      "[Parallel(n_jobs=1)]: Using backend SequentialBackend with 1 concurrent workers.\n",
      "[Parallel(n_jobs=1)]: Done   5 out of   5 | elapsed:  1.0min finished\n"
     ]
    },
    {
     "name": "stdout",
     "output_type": "stream",
     "text": [
      "accuracy 1.0\n"
     ]
    }
   ],
   "source": [
    "# create function to extract columns with different data type seperately\n",
    "get_text_data = FunctionTransformer(lambda x: x[text_col], validate=False)\n",
    "# convert numeric variable into 2d array to fit the model\n",
    "get_numeric_data = FunctionTransformer(lambda x: x[num_col].to_frame())\n",
    "# use imbalanced pipeline to tranform data into model digestable form and fed the data into classifier\n",
    "pipeline = imbpipeline([\n",
    "    ('features', FeatureUnion([\n",
    "            ('numeric_features', Pipeline([\n",
    "                ('extract', get_numeric_data),\n",
    "                ('scale', StandardScaler())         \n",
    "  ]\n",
    " )\n",
    "),\n",
    "             ('text_features', Pipeline([\n",
    "                ('selector', get_text_data),\n",
    "                ('vec', TfidfVectorizer(#vocabulary= X_names,\n",
    "                                        stop_words= None,\n",
    "                                        ngram_range= (1,3), \n",
    "                                        max_df= 0.3, # very useful on imbalanced dataset\n",
    "                                        min_df= 0\n",
    "       )\n",
    "      )\n",
    "     ]\n",
    "    )\n",
    "   )\n",
    "  ]\n",
    " )\n",
    "),\n",
    "    ('smote', SMOTE(random_state=28)),\n",
    "    ('clf', SGDClassifier(max_iter=50,\n",
    "                          tol=0.001, \n",
    "                          alpha=1e-06, \n",
    "                          penalty='l2'\n",
    "   )\n",
    "  )\n",
    " ]\n",
    ")\n",
    "# Grid Search Parameters for SGD \n",
    "param_grid = {#'vec__max_df': (0.3, 0.2, 0.4),\n",
    "              #'vec__min_df': (0,1,2),\n",
    "              #'vec__ngram_range': [(1,3)], \n",
    "              #'clf__alpha': (0.00001, 0.000001, 0.000005),\n",
    "              #'clf__panelty': ('l2','l1'),\n",
    "              'clf__max_iter': [50],\n",
    "              #'clf__tol': (0, 1e-1, 1e-2, 1e-3, 1e-5)\n",
    "}\n",
    "# Perform GridSearch\n",
    "sgd_model = GridSearchCV(pipeline, \n",
    "                         param_grid=param_grid, \n",
    "                         cv=5,\n",
    "                         #n_jobs=-1, \n",
    "                         return_train_score=True, \n",
    "                         verbose=1\n",
    ")\n",
    "# fit the model on all labeled data\n",
    "sgd_model.fit(label_features, label_target.values.ravel())\n",
    "\n",
    "# store the result of best hyperparameter to variable\n",
    "sgd_best = sgd_model.best_estimator_\n",
    "# predict on test data\n",
    "pred_combine = sgd_model.predict(X_test_ros)\n",
    "# accuray\n",
    "print('accuracy %s' % accuracy_score(y_test_ros[target_col], pred_combine)) "
   ]
  },
  {
   "cell_type": "markdown",
   "metadata": {},
   "source": [
    "### Model Performance Evaluation\n",
    "#### (Reference analytic process-flow diagram 7.)\n",
    "\n",
    "Accuracy/ F-1 score high enough (> 0.99) \n",
    "- Inspect numbers of misclassified transactions and output them as a dataframe (if any)\n",
    "- Classification report\n",
    "- Confusion matrix"
   ]
  },
  {
   "cell_type": "code",
   "execution_count": 15,
   "metadata": {},
   "outputs": [
    {
     "name": "stdout",
     "output_type": "stream",
     "text": [
      "0\n"
     ]
    },
    {
     "name": "stderr",
     "output_type": "stream",
     "text": [
      "/Library/Frameworks/Python.framework/Versions/3.9/lib/python3.9/site-packages/pandas/core/indexing.py:1667: SettingWithCopyWarning: \n",
      "A value is trying to be set on a copy of a slice from a DataFrame.\n",
      "Try using .loc[row_indexer,col_indexer] = value instead\n",
      "\n",
      "See the caveats in the documentation: https://pandas.pydata.org/pandas-docs/stable/user_guide/indexing.html#returning-a-view-versus-a-copy\n",
      "  self.obj[key] = value\n"
     ]
    }
   ],
   "source": [
    "def inspect_misclassfied_transactions(target_var, features_var, predictions):\n",
    "    \"\"\"Function to inspect misclassified transactions\"\"\"\n",
    "    target_var.loc[:,'predict'] = predictions\n",
    "    inspect=pd.concat([target_var,features_var],axis = 1)\n",
    "    inspect_misclassified = inspect[inspect['predict'] != inspect[target_col]]\n",
    "    print(len(inspect_misclassified.value_counts(text_col)))\n",
    "    inspect_misclassified.sort_values(text_col)\n",
    "inspect_misclassfied_transactions(y_test_ros, X_test_ros, pred_combine)"
   ]
  },
  {
   "cell_type": "code",
   "execution_count": 16,
   "metadata": {},
   "outputs": [
    {
     "name": "stdout",
     "output_type": "stream",
     "text": [
      "                                           precision    recall  f1-score   support\n",
      "\n",
      "                   Communication Services       1.00      1.00      1.00      2708\n",
      "                                Education       1.00      1.00      1.00      2763\n",
      "                            Entertainment       1.00      1.00      1.00      2633\n",
      "                                  Finance       1.00      1.00      1.00      2743\n",
      "            Health and Community Services       1.00      1.00      1.00      2669\n",
      "           Property and Business Services       1.00      1.00      1.00      2655\n",
      "                             Retail Trade       1.00      1.00      1.00      2694\n",
      "                    Services to Transport       1.00      1.00      1.00      2697\n",
      "Trade, Professional and Personal Services       1.00      1.00      1.00      2729\n",
      "                                   Travel       1.00      1.00      1.00      2709\n",
      "\n",
      "                                 accuracy                           1.00     27000\n",
      "                                macro avg       1.00      1.00      1.00     27000\n",
      "                             weighted avg       1.00      1.00      1.00     27000\n",
      "\n"
     ]
    }
   ],
   "source": [
    "# print out metrices of classification report\n",
    "print(classification_report(y_test_ros['Category'], y_test_ros.loc[:,'predict'], target_names=classes))"
   ]
  },
  {
   "cell_type": "code",
   "execution_count": 17,
   "metadata": {},
   "outputs": [
    {
     "data": {
      "image/png": "[encoded data removed]",
      "text/plain": [
       "<Figure size 936x720 with 1 Axes>"
      ]
     },
     "metadata": {
      "needs_background": "light"
     },
     "output_type": "display_data"
    }
   ],
   "source": [
    "ture = y_test_ros[target_col]\n",
    "predict = y_test_ros['predict']\n",
    "def plot_confusion_matrix(ture, predict, cmap=plt.cm.Blues):\n",
    "    \"\"\"Function to plot confusion matrix\"\"\"\n",
    "    cm = confusion_matrix(ture,predict)\n",
    "    fig, ax = plt.subplots(figsize=(13,10))\n",
    "    sns.heatmap(cm,\n",
    "                annot=True, \n",
    "                fmt='d', \n",
    "                ax=ax, \n",
    "                cmap = cmap,\n",
    "                cbar=False\n",
    "                )\n",
    "    ax.set(xlabel='Prediction', \n",
    "           ylabel='True', \n",
    "           xticklabels=classes, \n",
    "           yticklabels=classes, \n",
    "           title='Confusion Matrix')\n",
    "    plt.yticks(rotation=0)\n",
    "    plt.xticks(rotation=90)\n",
    "    plt.show()\n",
    "plot_confusion_matrix(ture, predict)"
   ]
  },
  {
   "cell_type": "markdown",
   "metadata": {},
   "source": [
    "As we can see from the above confusion matrix, the outcome is perfectly diagonal with zero transaction misclassified."
   ]
  },
  {
   "cell_type": "markdown",
   "metadata": {},
   "source": [
    "### Output prediction of test data \n",
    "- Read in origianl test dataset\n",
    "- Make predictions on cleaned test data (use_df)\n",
    "- Append the predictions on category to orginal test dataset\n",
    "- Output predictions and save the file\n",
    "#### (Reference analytic process-flow diagram 8.)\n"
   ]
  },
  {
   "cell_type": "code",
   "execution_count": 18,
   "metadata": {},
   "outputs": [],
   "source": [
    "file_name = 'Wells_Fargo_Predictions.csv'\n",
    "def output_prediction(model, use_case, use_data_file):\n",
    "    \"\"\"Output predictions to Excel file\"\"\"\n",
    "    global test_df\n",
    "    # load raw used case file\n",
    "    test_df = pd.read_excel(use_data_file)\n",
    "    # make prediction on cleaned test data \n",
    "    pred_combine = model.predict(use_case)\n",
    "    # output predictions to file\n",
    "    test_df.loc[:,target_col] = pred_combine\n",
    "    test_df.to_csv(file_name)\n",
    "    return test_df\n",
    "test_df = output_prediction(sgd_model, use_df, use_data_file)"
   ]
  }
 ],
 "metadata": {
  "kernelspec": {
   "display_name": "Python 3.9.7 64-bit",
   "language": "python",
   "name": "python3"
  },
  "language_info": {
   "codemirror_mode": {
    "name": "ipython",
    "version": 3
   },
   "file_extension": ".py",
   "mimetype": "text/x-python",
   "name": "python",
   "nbconvert_exporter": "python",
   "pygments_lexer": "ipython3",
   "version": "3.9.7"
  },
  "vscode": {
   "interpreter": {
    "hash": "aee8b7b246df8f9039afb4144a1f6fd8d2ca17a180786b69acc140d282b71a49"
   }
  }
 },
 "nbformat": 4,
 "nbformat_minor": 4
}
